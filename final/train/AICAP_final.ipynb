{
  "cells": [
    {
      "cell_type": "code",
      "execution_count": 1,
      "metadata": {
        "colab": {
          "base_uri": "https://localhost:8080/"
        },
        "id": "Q9_O32-8ZLAA",
        "outputId": "42c90262-deb1-4af5-da03-2f1cd3e9c186"
      },
      "outputs": [
        {
          "output_type": "stream",
          "name": "stdout",
          "text": [
            "Drive already mounted at /content/drive; to attempt to forcibly remount, call drive.mount(\"/content/drive\", force_remount=True).\n"
          ]
        }
      ],
      "source": [
        "from google.colab import drive\n",
        "drive.mount('/content/drive')"
      ]
    },
    {
      "cell_type": "code",
      "execution_count": 2,
      "metadata": {
        "colab": {
          "base_uri": "https://localhost:8080/"
        },
        "id": "vpgdj9BIXrC2",
        "outputId": "ffdb2b0c-20e7-47f5-9b1e-2ac8f960ca3e"
      },
      "outputs": [
        {
          "output_type": "stream",
          "name": "stdout",
          "text": [
            "Found existing installation: sympy 1.13.1\n",
            "Uninstalling sympy-1.13.1:\n",
            "  Successfully uninstalled sympy-1.13.1\n",
            "Collecting sympy==1.12\n",
            "  Downloading sympy-1.12-py3-none-any.whl.metadata (12 kB)\n",
            "Requirement already satisfied: mpmath>=0.19 in /usr/local/lib/python3.11/dist-packages (from sympy==1.12) (1.3.0)\n",
            "Downloading sympy-1.12-py3-none-any.whl (5.7 MB)\n",
            "\u001b[2K   \u001b[90m━━━━━━━━━━━━━━━━━━━━━━━━━━━━━━━━━━━━━━━━\u001b[0m \u001b[32m5.7/5.7 MB\u001b[0m \u001b[31m43.0 MB/s\u001b[0m eta \u001b[36m0:00:00\u001b[0m\n",
            "\u001b[?25hInstalling collected packages: sympy\n",
            "\u001b[31mERROR: pip's dependency resolver does not currently take into account all the packages that are installed. This behaviour is the source of the following dependency conflicts.\n",
            "torch 2.6.0+cu124 requires nvidia-cublas-cu12==12.4.5.8; platform_system == \"Linux\" and platform_machine == \"x86_64\", but you have nvidia-cublas-cu12 12.5.3.2 which is incompatible.\n",
            "torch 2.6.0+cu124 requires nvidia-cuda-cupti-cu12==12.4.127; platform_system == \"Linux\" and platform_machine == \"x86_64\", but you have nvidia-cuda-cupti-cu12 12.5.82 which is incompatible.\n",
            "torch 2.6.0+cu124 requires nvidia-cuda-nvrtc-cu12==12.4.127; platform_system == \"Linux\" and platform_machine == \"x86_64\", but you have nvidia-cuda-nvrtc-cu12 12.5.82 which is incompatible.\n",
            "torch 2.6.0+cu124 requires nvidia-cuda-runtime-cu12==12.4.127; platform_system == \"Linux\" and platform_machine == \"x86_64\", but you have nvidia-cuda-runtime-cu12 12.5.82 which is incompatible.\n",
            "torch 2.6.0+cu124 requires nvidia-cudnn-cu12==9.1.0.70; platform_system == \"Linux\" and platform_machine == \"x86_64\", but you have nvidia-cudnn-cu12 9.3.0.75 which is incompatible.\n",
            "torch 2.6.0+cu124 requires nvidia-cufft-cu12==11.2.1.3; platform_system == \"Linux\" and platform_machine == \"x86_64\", but you have nvidia-cufft-cu12 11.2.3.61 which is incompatible.\n",
            "torch 2.6.0+cu124 requires nvidia-curand-cu12==10.3.5.147; platform_system == \"Linux\" and platform_machine == \"x86_64\", but you have nvidia-curand-cu12 10.3.6.82 which is incompatible.\n",
            "torch 2.6.0+cu124 requires nvidia-cusolver-cu12==11.6.1.9; platform_system == \"Linux\" and platform_machine == \"x86_64\", but you have nvidia-cusolver-cu12 11.6.3.83 which is incompatible.\n",
            "torch 2.6.0+cu124 requires nvidia-cusparse-cu12==12.3.1.170; platform_system == \"Linux\" and platform_machine == \"x86_64\", but you have nvidia-cusparse-cu12 12.5.1.3 which is incompatible.\n",
            "torch 2.6.0+cu124 requires nvidia-nvjitlink-cu12==12.4.127; platform_system == \"Linux\" and platform_machine == \"x86_64\", but you have nvidia-nvjitlink-cu12 12.5.82 which is incompatible.\n",
            "torch 2.6.0+cu124 requires sympy==1.13.1; python_version >= \"3.9\", but you have sympy 1.12 which is incompatible.\u001b[0m\u001b[31m\n",
            "\u001b[0mSuccessfully installed sympy-1.12\n"
          ]
        }
      ],
      "source": [
        "!pip uninstall -y sympy\n",
        "!pip install sympy==1.12"
      ]
    },
    {
      "cell_type": "code",
      "execution_count": 3,
      "metadata": {
        "colab": {
          "base_uri": "https://localhost:8080/"
        },
        "id": "ZyJRFQb5VaGY",
        "outputId": "ed70cf24-3d8a-4259-aff2-7e267de028d5"
      },
      "outputs": [
        {
          "output_type": "execute_result",
          "data": {
            "text/plain": [
              "['.DS_Store', 'test', 'val', 'train']"
            ]
          },
          "metadata": {},
          "execution_count": 3
        }
      ],
      "source": [
        "import os\n",
        "\n",
        "os.chdir('/content/drive/My Drive/split_dataset') #切換該目錄\n",
        "os.listdir() #確認目錄內容"
      ]
    },
    {
      "cell_type": "code",
      "execution_count": 4,
      "metadata": {
        "id": "mjqfbOupVkdn"
      },
      "outputs": [],
      "source": [
        "train_folder = '/content/drive/My Drive/split_dataset/train'\n",
        "val_folder = '/content/drive/My Drive/split_dataset/val'\n",
        "test_folder = '/content/drive/My Drive/split_dataset/test'"
      ]
    },
    {
      "cell_type": "code",
      "execution_count": 5,
      "metadata": {
        "id": "4Fvmi0o_V-uk"
      },
      "outputs": [],
      "source": [
        "import os\n",
        "import torch\n",
        "from torch.utils.data import Dataset\n",
        "from sklearn.preprocessing import LabelEncoder\n",
        "\n",
        "class FeatureSequenceDataset(Dataset):\n",
        "    def __init__(self, root_path, exclude_labels=None):\n",
        "        self.paths = []\n",
        "        self.labels = []\n",
        "        self.label_encoder = LabelEncoder()\n",
        "\n",
        "        exclude_labels = exclude_labels or []\n",
        "\n",
        "        for class_name in sorted(os.listdir(root_path)):\n",
        "            if class_name in exclude_labels:\n",
        "                continue\n",
        "\n",
        "            class_path = os.path.join(root_path, class_name)\n",
        "            if not os.path.isdir(class_path):\n",
        "                continue\n",
        "\n",
        "            for fname in os.listdir(class_path):\n",
        "                if fname.endswith(\".pt\"):\n",
        "                    self.paths.append(os.path.join(class_path, fname))\n",
        "                    self.labels.append(class_name)\n",
        "\n",
        "        self.labels = self.label_encoder.fit_transform(self.labels)\n",
        "        self.num_classes = len(self.label_encoder.classes_)\n",
        "\n",
        "    def __len__(self):\n",
        "        return len(self.paths)\n",
        "\n",
        "    def __getitem__(self, idx):\n",
        "        pt_path = self.paths[idx]\n",
        "        item = torch.load(pt_path)\n",
        "        x = item[\"feature\"]  # [16, 512]\n",
        "        y = self.labels[idx] # int\n",
        "        return x, y\n"
      ]
    },
    {
      "cell_type": "code",
      "execution_count": 18,
      "metadata": {
        "colab": {
          "base_uri": "https://localhost:8080/"
        },
        "id": "xNJIF5AAWEtQ",
        "outputId": "32f832ba-6afe-4857-e3a4-9cc4b8f8c822"
      },
      "outputs": [
        {
          "output_type": "stream",
          "name": "stdout",
          "text": [
            "Classes: ['lateral' 'leave_to_left' 'leave_to_right' 'moving_ahead_or_waiting'\n",
            " 'normal' 'obstacle' 'oncoming' 'pedestrian' 'start_stop_or_stationary'\n",
            " 'turning']\n",
            "Train samples: 4221\n",
            "Val samples: 526\n",
            "Test samples: 531\n",
            "test loader: 4\n"
          ]
        }
      ],
      "source": [
        "from torch.utils.data import DataLoader\n",
        "from torch.utils.data import Subset\n",
        "\n",
        "train_set = FeatureSequenceDataset(train_folder, exclude_labels=[\"unknown\"])\n",
        "val_set   = FeatureSequenceDataset(val_folder, exclude_labels=[\"unknown\"])\n",
        "test_set  = FeatureSequenceDataset(test_folder, exclude_labels=[\"unknown\"])\n",
        "\n",
        "test_set_small = Subset(test_set, range(100))\n",
        "\n",
        "train_loader = DataLoader(train_set, batch_size=32, shuffle=True)\n",
        "val_loader   = DataLoader(val_set, batch_size=32, shuffle=False)\n",
        "test_loader  = DataLoader(test_set_small, batch_size=32, shuffle=False)\n",
        "\n",
        "print(\"Classes:\", train_set.label_encoder.classes_)\n",
        "print(\"Train samples:\", len(train_set))\n",
        "print(\"Val samples:\", len(val_set))\n",
        "print(\"Test samples:\", len(test_set))\n",
        "\n",
        "print(\"test loader:\", len(test_loader))\n"
      ]
    },
    {
      "cell_type": "code",
      "execution_count": 19,
      "metadata": {
        "id": "__EBDs2OWyjP"
      },
      "outputs": [],
      "source": [
        "import torch.nn as nn\n",
        "\n",
        "class LSTMClassifier(nn.Module):\n",
        "    def __init__(self, input_dim=512, hidden_dim=256, num_layers=1, num_classes=3):\n",
        "        super().__init__()\n",
        "        self.lstm = nn.LSTM(input_dim, hidden_dim, num_layers, batch_first=True)\n",
        "        self.fc = nn.Linear(hidden_dim, num_classes)\n",
        "\n",
        "    def forward(self, x):\n",
        "        _, (hn, _) = self.lstm(x)\n",
        "        out = self.fc(hn[-1])\n",
        "        return out\n"
      ]
    },
    {
      "cell_type": "code",
      "source": [
        "import torch\n",
        "from tqdm import tqdm\n",
        "from tqdm import tqdm\n",
        "import sympy\n",
        "\n",
        "\n",
        "device = torch.device(\"cuda\" if torch.cuda.is_available() else \"cpu\")\n",
        "\n",
        "print(device)\n",
        "\n",
        "model = LSTMClassifier(num_classes=train_set.num_classes).to(device)\n",
        "criterion = nn.CrossEntropyLoss()\n",
        "optimizer = torch.optim.Adam(model.parameters(), lr=1e-3)\n",
        "\n"
      ],
      "metadata": {
        "colab": {
          "base_uri": "https://localhost:8080/"
        },
        "id": "1Ay3WlD2NW0l",
        "outputId": "9c05a9a5-06e1-4e29-d5ea-3bf04a7beb7d"
      },
      "execution_count": 20,
      "outputs": [
        {
          "output_type": "stream",
          "name": "stdout",
          "text": [
            "cpu\n"
          ]
        }
      ]
    },
    {
      "cell_type": "code",
      "execution_count": null,
      "metadata": {
        "colab": {
          "background_save": true,
          "base_uri": "https://localhost:8080/"
        },
        "id": "P_ZQEKkEW285",
        "outputId": "f4f1a931-58d5-4061-87c7-48647b8be1e1"
      },
      "outputs": [
        {
          "name": "stdout",
          "output_type": "stream",
          "text": [
            "cpu\n"
          ]
        },
        {
          "name": "stderr",
          "output_type": "stream",
          "text": [
            "[Train] Epoch 1: 100%|██████████| 91/91 [16:38<00:00, 10.97s/it]\n"
          ]
        },
        {
          "name": "stdout",
          "output_type": "stream",
          "text": [
            "Epoch 1 Train Loss: 162.7658, Acc: 0.3639\n",
            "Epoch 1 Val   Loss: 20.6694, Acc: 0.3823\n"
          ]
        },
        {
          "name": "stderr",
          "output_type": "stream",
          "text": [
            "[Train] Epoch 2: 100%|██████████| 91/91 [00:20<00:00,  4.50it/s]\n"
          ]
        },
        {
          "name": "stdout",
          "output_type": "stream",
          "text": [
            "Epoch 2 Train Loss: 153.4341, Acc: 0.3984\n",
            "Epoch 2 Val   Loss: 20.2246, Acc: 0.3961\n"
          ]
        },
        {
          "name": "stderr",
          "output_type": "stream",
          "text": [
            "[Train] Epoch 3: 100%|██████████| 91/91 [00:20<00:00,  4.40it/s]\n"
          ]
        },
        {
          "name": "stdout",
          "output_type": "stream",
          "text": [
            "Epoch 3 Train Loss: 148.8652, Acc: 0.4264\n",
            "Epoch 3 Val   Loss: 20.1974, Acc: 0.3989\n"
          ]
        },
        {
          "name": "stderr",
          "output_type": "stream",
          "text": [
            "[Train] Epoch 4: 100%|██████████| 91/91 [00:21<00:00,  4.17it/s]\n"
          ]
        },
        {
          "name": "stdout",
          "output_type": "stream",
          "text": [
            "Epoch 4 Train Loss: 145.8074, Acc: 0.4357\n",
            "Epoch 4 Val   Loss: 20.5811, Acc: 0.3767\n"
          ]
        },
        {
          "name": "stderr",
          "output_type": "stream",
          "text": [
            "[Train] Epoch 5: 100%|██████████| 91/91 [00:19<00:00,  4.62it/s]\n"
          ]
        },
        {
          "name": "stdout",
          "output_type": "stream",
          "text": [
            "Epoch 5 Train Loss: 144.5103, Acc: 0.4292\n",
            "Epoch 5 Val   Loss: 20.4072, Acc: 0.3934\n"
          ]
        },
        {
          "name": "stderr",
          "output_type": "stream",
          "text": [
            "[Train] Epoch 6: 100%|██████████| 91/91 [00:19<00:00,  4.71it/s]\n"
          ]
        },
        {
          "name": "stdout",
          "output_type": "stream",
          "text": [
            "Epoch 6 Train Loss: 140.6212, Acc: 0.4537\n",
            "Epoch 6 Val   Loss: 20.2627, Acc: 0.4017\n"
          ]
        },
        {
          "name": "stderr",
          "output_type": "stream",
          "text": [
            "[Train] Epoch 7: 100%|██████████| 91/91 [00:19<00:00,  4.63it/s]\n"
          ]
        },
        {
          "name": "stdout",
          "output_type": "stream",
          "text": [
            "Epoch 7 Train Loss: 137.8531, Acc: 0.4572\n",
            "Epoch 7 Val   Loss: 20.2974, Acc: 0.4017\n"
          ]
        },
        {
          "name": "stderr",
          "output_type": "stream",
          "text": [
            "[Train] Epoch 8: 100%|██████████| 91/91 [00:19<00:00,  4.70it/s]\n"
          ]
        },
        {
          "name": "stdout",
          "output_type": "stream",
          "text": [
            "Epoch 8 Train Loss: 135.5094, Acc: 0.4727\n",
            "Epoch 8 Val   Loss: 20.0334, Acc: 0.3934\n"
          ]
        },
        {
          "name": "stderr",
          "output_type": "stream",
          "text": [
            "[Train] Epoch 9: 100%|██████████| 91/91 [00:19<00:00,  4.70it/s]\n"
          ]
        },
        {
          "name": "stdout",
          "output_type": "stream",
          "text": [
            "Epoch 9 Train Loss: 133.3826, Acc: 0.4744\n",
            "Epoch 9 Val   Loss: 20.5944, Acc: 0.3795\n"
          ]
        },
        {
          "name": "stderr",
          "output_type": "stream",
          "text": [
            "[Train] Epoch 10: 100%|██████████| 91/91 [00:19<00:00,  4.58it/s]\n"
          ]
        },
        {
          "name": "stdout",
          "output_type": "stream",
          "text": [
            "Epoch 10 Train Loss: 132.5457, Acc: 0.4782\n",
            "Epoch 10 Val   Loss: 20.2442, Acc: 0.4044\n"
          ]
        }
      ],
      "source": [
        "\n",
        "EPOCHS = 10\n",
        "for epoch in range(EPOCHS):\n",
        "    model.train()\n",
        "    total_loss, correct, total = 0, 0, 0\n",
        "\n",
        "    for X, y in tqdm(train_loader, desc=f\"[Train] Epoch {epoch+1}\"):\n",
        "        X, y = X.to(device), y.to(device)\n",
        "        optimizer.zero_grad()\n",
        "        pred = model(X)\n",
        "        loss = criterion(pred, y)\n",
        "        loss.backward()\n",
        "        optimizer.step()\n",
        "\n",
        "        total_loss += loss.item()\n",
        "        correct += (pred.argmax(dim=1) == y).sum().item()\n",
        "        total += y.size(0)\n",
        "\n",
        "    acc = correct / total\n",
        "    print(f\"Epoch {epoch+1} Train Loss: {total_loss:.4f}, Acc: {acc:.4f}\")\n",
        "\n",
        "    # 驗證\n",
        "    model.eval()\n",
        "    val_loss, val_correct, val_total = 0, 0, 0\n",
        "    with torch.no_grad():\n",
        "        for X, y in val_loader:\n",
        "            X, y = X.to(device), y.to(device)\n",
        "            pred = model(X)\n",
        "            loss = criterion(pred, y)\n",
        "            val_loss += loss.item()\n",
        "            val_correct += (pred.argmax(dim=1) == y).sum().item()\n",
        "            val_total += y.size(0)\n",
        "\n",
        "    val_acc = val_correct / val_total\n",
        "    print(f\"Epoch {epoch+1} Val   Loss: {val_loss:.4f}, Acc: {val_acc:.4f}\")\n"
      ]
    },
    {
      "cell_type": "code",
      "execution_count": null,
      "metadata": {
        "colab": {
          "background_save": true
        },
        "id": "oLK_jCx8ZvXX"
      },
      "outputs": [],
      "source": [
        "torch.save(model.state_dict(), \"/content/drive/My Drive/lstm_classifier.pt\")"
      ]
    },
    {
      "cell_type": "code",
      "execution_count": 22,
      "metadata": {
        "id": "RAikg100ZkMc",
        "colab": {
          "base_uri": "https://localhost:8080/"
        },
        "outputId": "437b3591-1089-456a-e60b-f4e904c6987e"
      },
      "outputs": [
        {
          "output_type": "stream",
          "name": "stdout",
          "text": [
            "Test Accuracy: 0.0300\n"
          ]
        }
      ],
      "source": [
        "model.eval()\n",
        "test_correct, test_total = 0, 0\n",
        "all_preds = []\n",
        "all_labels = []\n",
        "\n",
        "with torch.no_grad():\n",
        "    for X, y in test_loader:\n",
        "        X, y = X.to(device), y.to(device)\n",
        "        pred = model(X)\n",
        "\n",
        "        preds = pred.argmax(dim=1)\n",
        "        all_preds.extend(preds.cpu().numpy())\n",
        "        all_labels.extend(y.cpu().numpy())\n",
        "\n",
        "        test_correct += (preds == y).sum().item()\n",
        "        test_total += y.size(0)\n",
        "\n",
        "print(f\"Test Accuracy: {test_correct / test_total:.4f}\")\n"
      ]
    },
    {
      "cell_type": "code",
      "source": [
        "from sklearn.metrics import confusion_matrix, ConfusionMatrixDisplay\n",
        "import matplotlib.pyplot as plt\n",
        "\n",
        "class_names = test_set.label_encoder.classes_  # 保留所有類別名稱\n",
        "num_classes = len(class_names)\n",
        "cm = confusion_matrix(all_labels, all_preds, labels=range(num_classes))\n",
        "\n",
        "plt.figure(figsize=(10, 8))  # ✅ 加大畫布\n",
        "disp = ConfusionMatrixDisplay(confusion_matrix=cm, display_labels=class_names)\n",
        "disp.plot(cmap='Blues', values_format='d')\n",
        "\n",
        "plt.xticks(rotation=45, ha='right')  # ✅ 旋轉字\n",
        "plt.title(\"Confusion Matrix\")\n",
        "plt.grid(False)\n",
        "plt.tight_layout()                   # ✅ 自動排版避免壓縮\n",
        "plt.show()\n",
        "plt.savefig('/content/drive/My Drive/lstm_confusion_matrix.png')\n"
      ],
      "metadata": {
        "colab": {
          "base_uri": "https://localhost:8080/",
          "height": 522
        },
        "id": "ubVyInflM6UM",
        "outputId": "dcaefac6-138f-46ca-9654-8a71d2712801"
      },
      "execution_count": 33,
      "outputs": [
        {
          "output_type": "display_data",
          "data": {
            "text/plain": [
              "<Figure size 1000x800 with 0 Axes>"
            ]
          },
          "metadata": {}
        },
        {
          "output_type": "display_data",
          "data": {
            "text/plain": [
              "<Figure size 640x480 with 2 Axes>"
            ],
            "image/png": "[encoded data removed]"
          },
          "metadata": {}
        },
        {
          "output_type": "display_data",
          "data": {
            "text/plain": [
              "<Figure size 640x480 with 0 Axes>"
            ]
          },
          "metadata": {}
        }
      ]
    },
    {
      "cell_type": "code",
      "source": [
        "from sklearn.metrics import classification_report\n",
        "\n",
        "class_names = test_set.label_encoder.classes_  # e.g., 10 個類別\n",
        "num_classes = len(class_names)\n",
        "labels = list(range(num_classes))              # 保證使用完整類別\n",
        "\n",
        "report = classification_report(\n",
        "    all_labels,\n",
        "    all_preds,\n",
        "    labels=labels,               # ✅ 指定所有類別 index\n",
        "    target_names=class_names,    # ✅ 對應 class 名稱\n",
        "    digits=4                     # 可選：顯示小數點後 4 位\n",
        ")\n",
        "\n",
        "print(report)\n"
      ],
      "metadata": {
        "colab": {
          "base_uri": "https://localhost:8080/"
        },
        "id": "8xnK_B7KNAfd",
        "outputId": "a1ecc6bf-2b4a-4674-8a01-982e99e57d7a"
      },
      "execution_count": 28,
      "outputs": [
        {
          "output_type": "stream",
          "name": "stdout",
          "text": [
            "                          precision    recall  f1-score   support\n",
            "\n",
            "                 lateral     0.0000    0.0000    0.0000        53\n",
            "           leave_to_left     0.1364    0.1000    0.1154        30\n",
            "          leave_to_right     0.0000    0.0000    0.0000        17\n",
            " moving_ahead_or_waiting     0.0000    0.0000    0.0000         0\n",
            "                  normal     0.0000    0.0000    0.0000         0\n",
            "                obstacle     0.0000    0.0000    0.0000         0\n",
            "                oncoming     0.0000    0.0000    0.0000         0\n",
            "              pedestrian     0.0000    0.0000    0.0000         0\n",
            "start_stop_or_stationary     0.0000    0.0000    0.0000         0\n",
            "                 turning     0.0000    0.0000    0.0000         0\n",
            "\n",
            "                accuracy                         0.0300       100\n",
            "               macro avg     0.0136    0.0100    0.0115       100\n",
            "            weighted avg     0.0409    0.0300    0.0346       100\n",
            "\n"
          ]
        },
        {
          "output_type": "stream",
          "name": "stderr",
          "text": [
            "/usr/local/lib/python3.11/dist-packages/sklearn/metrics/_classification.py:1565: UndefinedMetricWarning: Precision is ill-defined and being set to 0.0 in labels with no predicted samples. Use `zero_division` parameter to control this behavior.\n",
            "  _warn_prf(average, modifier, f\"{metric.capitalize()} is\", len(result))\n",
            "/usr/local/lib/python3.11/dist-packages/sklearn/metrics/_classification.py:1565: UndefinedMetricWarning: Recall is ill-defined and being set to 0.0 in labels with no true samples. Use `zero_division` parameter to control this behavior.\n",
            "  _warn_prf(average, modifier, f\"{metric.capitalize()} is\", len(result))\n",
            "/usr/local/lib/python3.11/dist-packages/sklearn/metrics/_classification.py:1565: UndefinedMetricWarning: F-score is ill-defined and being set to 0.0 in labels with no true nor predicted samples. Use `zero_division` parameter to control this behavior.\n",
            "  _warn_prf(average, modifier, f\"{metric.capitalize()} is\", len(result))\n",
            "/usr/local/lib/python3.11/dist-packages/sklearn/metrics/_classification.py:1565: UndefinedMetricWarning: Precision is ill-defined and being set to 0.0 in labels with no predicted samples. Use `zero_division` parameter to control this behavior.\n",
            "  _warn_prf(average, modifier, f\"{metric.capitalize()} is\", len(result))\n",
            "/usr/local/lib/python3.11/dist-packages/sklearn/metrics/_classification.py:1565: UndefinedMetricWarning: Recall is ill-defined and being set to 0.0 in labels with no true samples. Use `zero_division` parameter to control this behavior.\n",
            "  _warn_prf(average, modifier, f\"{metric.capitalize()} is\", len(result))\n",
            "/usr/local/lib/python3.11/dist-packages/sklearn/metrics/_classification.py:1565: UndefinedMetricWarning: F-score is ill-defined and being set to 0.0 in labels with no true nor predicted samples. Use `zero_division` parameter to control this behavior.\n",
            "  _warn_prf(average, modifier, f\"{metric.capitalize()} is\", len(result))\n",
            "/usr/local/lib/python3.11/dist-packages/sklearn/metrics/_classification.py:1565: UndefinedMetricWarning: Precision is ill-defined and being set to 0.0 in labels with no predicted samples. Use `zero_division` parameter to control this behavior.\n",
            "  _warn_prf(average, modifier, f\"{metric.capitalize()} is\", len(result))\n",
            "/usr/local/lib/python3.11/dist-packages/sklearn/metrics/_classification.py:1565: UndefinedMetricWarning: Recall is ill-defined and being set to 0.0 in labels with no true samples. Use `zero_division` parameter to control this behavior.\n",
            "  _warn_prf(average, modifier, f\"{metric.capitalize()} is\", len(result))\n",
            "/usr/local/lib/python3.11/dist-packages/sklearn/metrics/_classification.py:1565: UndefinedMetricWarning: F-score is ill-defined and being set to 0.0 in labels with no true nor predicted samples. Use `zero_division` parameter to control this behavior.\n",
            "  _warn_prf(average, modifier, f\"{metric.capitalize()} is\", len(result))\n"
          ]
        }
      ]
    }
  ],
  "metadata": {
    "colab": {
      "provenance": []
    },
    "kernelspec": {
      "display_name": "Python 3",
      "name": "python3"
    },
    "language_info": {
      "name": "python"
    }
  },
  "nbformat": 4,
  "nbformat_minor": 0
}